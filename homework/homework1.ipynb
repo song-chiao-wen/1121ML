{
 "cells": [
  {
   "cell_type": "code",
   "execution_count": 88,
   "id": "0e673f0b",
   "metadata": {},
   "outputs": [
    {
     "name": "stdout",
     "output_type": "stream",
     "text": [
      "Please enter the radius：4\n",
      "The volume of the sphere is： 268.082573106329\n",
      "The surface area of the sphere is： 201.06192982974676\n"
     ]
    }
   ],
   "source": [
    "import math\n",
    "def volumeandsurface():\n",
    "    radius = eval(input(\"Please enter the radius：\"))\n",
    "    volume = (4/3) * math.pi * radius**3\n",
    "    surface_area = 4 * math.pi * radius**2\n",
    "    print(\"The volume of the sphere is：\",volume)\n",
    "    print(\"The surface area of the sphere is：\",surface_area)\n",
    "volumeandsurface()"
   ]
  },
  {
   "cell_type": "code",
   "execution_count": 89,
   "id": "425c7cb7",
   "metadata": {},
   "outputs": [
    {
     "name": "stdout",
     "output_type": "stream",
     "text": [
      "Please enter the height of the wall (m)：54\n",
      "Please enter the angle between the ladder and the ground (degrees)：30\n",
      "The length of the ladder need to be： 108.00000000000001  meters\n"
     ]
    }
   ],
   "source": [
    "def ladder():\n",
    "    height = eval(input(\"Please enter the height of the wall (m)：\"))\n",
    "    angle = eval(input(\"Please enter the angle between the ladder and the ground (degrees)：\"))\n",
    "    ladder_length = height / math.sin(math.radians(angle)) # 將角度轉換為弧度才能算sin函數\n",
    "    print(\"The length of the ladder need to be：\",ladder_length,\" meters\")\n",
    "ladder()"
   ]
  },
  {
   "cell_type": "code",
   "execution_count": 90,
   "id": "637f1055",
   "metadata": {},
   "outputs": [
    {
     "name": "stdout",
     "output_type": "stream",
     "text": [
      "請輸入要計算π近似值的項目數：3\n",
      "π 的近似值為： 3.466666666666667\n"
     ]
    }
   ],
   "source": [
    "def pi():\n",
    "    num = int(input(\"請輸入要計算π近似值的項目數：\"))\n",
    "    approximate=0\n",
    "    for i in range(num):\n",
    "        approximate+=4/(1+2*i)*(-1)**i\n",
    "        # print(i) \n",
    "    print(\"π 的近似值為：\",approximate)\n",
    "pi()"
   ]
  },
  {
   "cell_type": "code",
   "execution_count": 95,
   "id": "93565f94",
   "metadata": {},
   "outputs": [
    {
     "name": "stdout",
     "output_type": "stream",
     "text": [
      "The program computes the average of three exam scores.\n",
      "Enter three scores separated by a comma:70,80,90\n",
      "The average of the scores is: 80.0\n"
     ]
    }
   ],
   "source": [
    "def avg3():\n",
    "    print(\"The program computes the average of three exam scores.\")\n",
    "    score1, score2, score3=eval(input(\"Enter three scores separated by a comma:\"))\n",
    "    average=(score1+score2+score3)/3\n",
    "    print(\"The average of the scores is:\", average)\n",
    "avg3()"
   ]
  },
  {
   "cell_type": "code",
   "execution_count": 102,
   "id": "fef634ce",
   "metadata": {},
   "outputs": [
    {
     "name": "stdout",
     "output_type": "stream",
     "text": [
      "What is the Celsius temperature?32\n",
      "The temperature is 89.6 degree Fahrenheit.( 1 /5 times)\n",
      "What is the Celsius temperature?5\n",
      "The temperature is 41.0 degree Fahrenheit.( 2 /5 times)\n",
      "What is the Celsius temperature?25\n",
      "The temperature is 77.0 degree Fahrenheit.( 3 /5 times)\n",
      "What is the Celsius temperature?78\n",
      "The temperature is 172.4 degree Fahrenheit.( 4 /5 times)\n",
      "What is the Celsius temperature?34\n",
      "The temperature is 93.2 degree Fahrenheit.( 5 /5 times)\n"
     ]
    }
   ],
   "source": [
    "def convert5():\n",
    "    for i in range(5):\n",
    "        celsius=eval(input(\"What is the Celsius temperature?\"))\n",
    "        fahrenheit=9/5*celsius+32\n",
    "        print(\"The temperature is\", fahrenheit,\"degree Fahrenheit.(\",i+1,\"/5 times)\")\n",
    "\n",
    "convert5()"
   ]
  },
  {
   "cell_type": "code",
   "execution_count": 103,
   "id": "4e986f1d",
   "metadata": {},
   "outputs": [
    {
     "name": "stdout",
     "output_type": "stream",
     "text": [
      "The program calculates the future value of a year investment.\n",
      "Enter the initial principal:10000\n",
      "Enter the annual interest rate:0.03\n",
      "Enter the number of years:15\n",
      "The value in 15 years is: 15579.67416600765\n"
     ]
    }
   ],
   "source": [
    "def futval2():\n",
    "    print(\"The program calculates the future value of a year investment.\")\n",
    "    principal=eval(input(\"Enter the initial principal:\"))\n",
    "    apr=eval(input(\"Enter the annual interest rate:\"))\n",
    "    num_year=eval(input(\"Enter the number of years:\"))\n",
    "    for i in range(num_year):\n",
    "        principal=principal*(1+apr)\n",
    "    print(\"The value in\",num_year,\"years is:\", principal)\n",
    "futval2()"
   ]
  },
  {
   "cell_type": "code",
   "execution_count": 105,
   "id": "49e5cf92",
   "metadata": {},
   "outputs": [
    {
     "name": "stdout",
     "output_type": "stream",
     "text": [
      "請輸入第一個正整數：80844\n",
      "請輸入第二個正整數：25320\n",
      "80844 和 25320 的最大公因數是 12\n"
     ]
    }
   ],
   "source": [
    "def gcd(n,m):\n",
    "    if(n<m):\n",
    "        a = n\n",
    "        n = m\n",
    "        m = a\n",
    "    while m != 0:   #不要除數是0         \n",
    "        r = n % m\n",
    "        n = m\n",
    "        m = r\n",
    "#        print(n,m)\n",
    "    return n\n",
    "\n",
    "n = int(input(\"請輸入第一個正整數：\"))\n",
    "m = int(input(\"請輸入第二個正整數：\"))\n",
    "g = gcd(n,m)\n",
    "print(n,\"和\",m,\"的最大公因數是\",g)"
   ]
  },
  {
   "cell_type": "code",
   "execution_count": 106,
   "id": "5b54e340",
   "metadata": {},
   "outputs": [
    {
     "name": "stdout",
     "output_type": "stream",
     "text": [
      "請輸入數值計算表示式：43+87\n",
      "計算結果： 130\n",
      "請輸入數值計算表示式：34t\n"
     ]
    },
    {
     "ename": "SyntaxError",
     "evalue": "invalid decimal literal (<string>, line 1)",
     "output_type": "error",
     "traceback": [
      "Traceback \u001b[1;36m(most recent call last)\u001b[0m:\n",
      "\u001b[0m  File \u001b[0;32m~\\anaconda3\\Lib\\site-packages\\IPython\\core\\interactiveshell.py:3505\u001b[0m in \u001b[0;35mrun_code\u001b[0m\n    exec(code_obj, self.user_global_ns, self.user_ns)\u001b[0m\n",
      "\u001b[1;36m  Cell \u001b[1;32mIn[106], line 3\u001b[1;36m\n\u001b[1;33m    result = eval(expression)\u001b[1;36m\n",
      "\u001b[1;36m  File \u001b[1;32m<string>:1\u001b[1;36m\u001b[0m\n\u001b[1;33m    34t\u001b[0m\n\u001b[1;37m     ^\u001b[0m\n\u001b[1;31mSyntaxError\u001b[0m\u001b[1;31m:\u001b[0m invalid decimal literal\n"
     ]
    }
   ],
   "source": [
    "while True:\n",
    "    expression = input(\"請輸入數值計算表示式：\")    \n",
    "    result = eval(expression)\n",
    "    print(\"計算結果：\", result)"
   ]
  },
  {
   "cell_type": "code",
   "execution_count": 109,
   "id": "2bb1e8db",
   "metadata": {},
   "outputs": [
    {
     "name": "stdout",
     "output_type": "stream",
     "text": [
      "請輸入0到100之間的分數:66\n",
      "你的等級是D\n"
     ]
    }
   ],
   "source": [
    "def grade():\n",
    "    score = int(eval(input(\"請輸入0到100之間的分數:\")))\n",
    "    if 90<=score<=100:\n",
    "        print(\"你的等級是A\")\n",
    "    elif 80<=score<90:\n",
    "        print(\"你的等級是B\")\n",
    "    elif 70<=score<80:\n",
    "        print(\"你的等級是C\")\n",
    "    elif 60<=score<70:\n",
    "        print(\"你的等級是D\")\n",
    "    elif 0<=score<60:\n",
    "        print(\"你的等級是F\")    \n",
    "grade()"
   ]
  },
  {
   "cell_type": "code",
   "execution_count": 110,
   "id": "6e0fba6c",
   "metadata": {},
   "outputs": [
    {
     "name": "stdout",
     "output_type": "stream",
     "text": [
      "Enter filename(score.txt):score.txt\n",
      "The grade have been written to grade.txt\n"
     ]
    }
   ],
   "source": [
    "def gradefile():\n",
    "    fname=input(\"Enter filename(score.txt):\")\n",
    "    infile = open(fname,\"r\")\n",
    "    outfile = open(\"grade.txt\",\"w\")\n",
    "    data = infile.readlines()\n",
    "    for line in data:\n",
    "        score = int(line.strip()) #移除換行符號\n",
    "        if 90 <= score and score <= 100:\n",
    "            print(\"A\",file=outfile)\n",
    "        elif 80 <=score and score < 90:\n",
    "            print(\"B\",file=outfile)\n",
    "        elif 70 <=score and score < 80:\n",
    "            print(\"C\",file=outfile)\n",
    "        elif 60 <=score and score < 70:\n",
    "            print(\"D\",file=outfile)\n",
    "        elif 0 <= score and score < 60:\n",
    "            print(\"F\",file=outfile)   \n",
    "    infile.close()\n",
    "    outfile.close()    \n",
    "    print(\"The grade have been written to grade.txt\") \n",
    "gradefile()"
   ]
  },
  {
   "cell_type": "code",
   "execution_count": 111,
   "id": "5de80aab",
   "metadata": {},
   "outputs": [
    {
     "name": "stdout",
     "output_type": "stream",
     "text": [
      "Enter the words to generate the Acronym :ed iu ojl\n",
      "The acronym of the words is ： EIO\n"
     ]
    }
   ],
   "source": [
    "def Acronym():\n",
    "    data = input(\"Enter the words to generate the Acronym :\")\n",
    "    datastr = data.split()\n",
    "    acr = \"\"\n",
    "    for i in datastr:\n",
    "        acr += i[0].upper()        \n",
    "    print(\"The acronym of the words is ：\",acr)\n",
    "Acronym()"
   ]
  },
  {
   "cell_type": "code",
   "execution_count": 112,
   "id": "9c5a10dd",
   "metadata": {},
   "outputs": [
    {
     "name": "stdout",
     "output_type": "stream",
     "text": [
      "Enter your birthday (mm/dd/yyyy):11/25/1976\n",
      "The personnal number is 5\n"
     ]
    }
   ],
   "source": [
    "def dateconvert():\n",
    "    date = input(\"Enter your birthday (mm/dd/yyyy):\")\n",
    "    monthStr, dayStr, yearStr = date.split(\"/\")\n",
    "    monthStr = int(monthStr)\n",
    "    dayStr = int(dayStr)\n",
    "    yearStr = int(yearStr)\n",
    "    birthnum = monthStr+dayStr+yearStr\n",
    "    personnum = 0\n",
    "    while birthnum>0:\n",
    "        personnum += birthnum%10\n",
    "        birthnum //= 10 \n",
    "    print(\"The personnal number is\", personnum)\n",
    "dateconvert()"
   ]
  },
  {
   "cell_type": "code",
   "execution_count": 116,
   "id": "a8d68694",
   "metadata": {},
   "outputs": [
    {
     "name": "stdout",
     "output_type": "stream",
     "text": [
      "首先輸入數字n，然後輸入n個數字成為數列，接著輸入若干個數字k，程式將輸出指定第k大的數字。如果k等於0，則結束程式\n",
      "請先輸入n，再輸入n個數字：3 76 33 67 1 2 3 4 0\n",
      "在 [76, 33, 67] 中，第 1 大的數字是 76\n",
      "在 [76, 33, 67] 中，第 2 大的數字是 67\n",
      "在 [76, 33, 67] 中，第 3 大的數字是 33\n",
      "k= 4 ，請重新輸入，k需在1到 3 之間\n"
     ]
    }
   ],
   "source": [
    "print(\"首先輸入數字n，然後輸入n個數字成為數列，接著輸入若干個數字k，程式將輸出指定第k大的數字。如果k等於0，則結束程式\")\n",
    "inarray = input(\"請先輸入n，再輸入n個數字：\")\n",
    "inarray = inarray.split()\n",
    "n = int(inarray[0])\n",
    "nums=[]\n",
    "for i in range(n):\n",
    "    num = int(inarray[i+1])\n",
    "    nums.append(num)\n",
    "\n",
    "for i in range (len(inarray[n+1:])):\n",
    "    k = int(inarray[(n+1)+i])\n",
    "    if k == 0:\n",
    "        break\n",
    "    if 0 < k <= n:\n",
    "        sorted_nums = sorted(nums, reverse=True)\n",
    "        kth_largest = sorted_nums[k-1]\n",
    "        print(\"在\",nums,\"中，第\",k,\"大的數字是\",kth_largest)\n",
    "    else:\n",
    "        print(\"k=\",k,\"，請重新輸入，k需在1到\",n,\"之間\")"
   ]
  },
  {
   "cell_type": "code",
   "execution_count": 117,
   "id": "86efeb55",
   "metadata": {},
   "outputs": [
    {
     "name": "stdout",
     "output_type": "stream",
     "text": [
      "請輸入您的月薪：1000\n",
      "請輸入您的工作年數：1\n",
      "1.0 年的總薪資為： 12000.0\n",
      "平均每日薪資為： 32.87671232876713\n"
     ]
    }
   ],
   "source": [
    "monthly_salary = int(input(\"請輸入您的月薪：\"))\n",
    "worked_years = float(input(\"請輸入您的工作年數：\"))\n",
    "total_salary = monthly_salary*worked_years*12\n",
    "average_daily_salary = total_salary / (worked_years*365)\n",
    "print(worked_years,\"年的總薪資為：\",total_salary)\n",
    "print(\"平均每日薪資為：\",average_daily_salary)\n"
   ]
  },
  {
   "cell_type": "code",
   "execution_count": 118,
   "id": "a7aa7930",
   "metadata": {},
   "outputs": [
    {
     "name": "stdout",
     "output_type": "stream",
     "text": [
      "1 x 1 = 1\n",
      "1 x 2 = 2\n",
      "1 x 3 = 3\n",
      "1 x 4 = 4\n",
      "1 x 5 = 5\n",
      "1 x 6 = 6\n",
      "1 x 7 = 7\n",
      "1 x 8 = 8\n",
      "1 x 9 = 9\n",
      "2 x 1 = 2\n",
      "2 x 2 = 4\n",
      "2 x 3 = 6\n",
      "2 x 4 = 8\n",
      "2 x 5 = 10\n",
      "2 x 6 = 12\n",
      "2 x 7 = 14\n",
      "2 x 8 = 16\n",
      "2 x 9 = 18\n",
      "3 x 1 = 3\n",
      "3 x 2 = 6\n",
      "3 x 3 = 9\n",
      "3 x 4 = 12\n",
      "3 x 5 = 15\n",
      "3 x 6 = 18\n",
      "3 x 7 = 21\n",
      "3 x 8 = 24\n",
      "3 x 9 = 27\n",
      "4 x 1 = 4\n",
      "4 x 2 = 8\n",
      "4 x 3 = 12\n",
      "4 x 4 = 16\n",
      "4 x 5 = 20\n",
      "4 x 6 = 24\n",
      "4 x 7 = 28\n",
      "4 x 8 = 32\n",
      "4 x 9 = 36\n",
      "5 x 1 = 5\n",
      "5 x 2 = 10\n",
      "5 x 3 = 15\n",
      "5 x 4 = 20\n",
      "5 x 5 = 25\n",
      "5 x 6 = 30\n",
      "5 x 7 = 35\n",
      "5 x 8 = 40\n",
      "5 x 9 = 45\n",
      "6 x 1 = 6\n",
      "6 x 2 = 12\n",
      "6 x 3 = 18\n",
      "6 x 4 = 24\n",
      "6 x 5 = 30\n",
      "6 x 6 = 36\n",
      "6 x 7 = 42\n",
      "6 x 8 = 48\n",
      "6 x 9 = 54\n",
      "7 x 1 = 7\n",
      "7 x 2 = 14\n",
      "7 x 3 = 21\n",
      "7 x 4 = 28\n",
      "7 x 5 = 35\n",
      "7 x 6 = 42\n",
      "7 x 7 = 49\n",
      "7 x 8 = 56\n",
      "7 x 9 = 63\n",
      "8 x 1 = 8\n",
      "8 x 2 = 16\n",
      "8 x 3 = 24\n",
      "8 x 4 = 32\n",
      "8 x 5 = 40\n",
      "8 x 6 = 48\n",
      "8 x 7 = 56\n",
      "8 x 8 = 64\n",
      "8 x 9 = 72\n",
      "9 x 1 = 9\n",
      "9 x 2 = 18\n",
      "9 x 3 = 27\n",
      "9 x 4 = 36\n",
      "9 x 5 = 45\n",
      "9 x 6 = 54\n",
      "9 x 7 = 63\n",
      "9 x 8 = 72\n",
      "9 x 9 = 81\n"
     ]
    }
   ],
   "source": [
    "for i in range(1,10):\n",
    "    for j in range(1,10):\n",
    "        n = i*j\n",
    "        print(i,\"x\",j ,\"=\",n)\n"
   ]
  },
  {
   "cell_type": "code",
   "execution_count": null,
   "id": "d74d16d2",
   "metadata": {},
   "outputs": [],
   "source": []
  }
 ],
 "metadata": {
  "kernelspec": {
   "display_name": "Python 3 (ipykernel)",
   "language": "python",
   "name": "python3"
  },
  "language_info": {
   "codemirror_mode": {
    "name": "ipython",
    "version": 3
   },
   "file_extension": ".py",
   "mimetype": "text/x-python",
   "name": "python",
   "nbconvert_exporter": "python",
   "pygments_lexer": "ipython3",
   "version": "3.11.4"
  }
 },
 "nbformat": 4,
 "nbformat_minor": 5
}
