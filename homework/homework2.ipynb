{
 "cells": [
  {
   "cell_type": "code",
   "execution_count": 2,
   "id": "2a4bd6bf",
   "metadata": {},
   "outputs": [
    {
     "name": "stdout",
     "output_type": "stream",
     "text": [
      "Enter the weught(kg):60\n",
      "Enter the height(cm):150\n",
      "BMI is 26.666666666666668 ，屬於 體重過重\n"
     ]
    }
   ],
   "source": [
    "weight = float(input(\"Enter the weught(kg):\"))\n",
    "height = float(input(\"Enter the height(cm):\"))\n",
    "height /= 100\n",
    "bmi = weight/(height**2)\n",
    "\n",
    "if bmi < 18.5:\n",
    "    classification = \"體重過輕\"\n",
    "elif 18.5 <= bmi < 24:\n",
    "    classification = \"正常範圍\"\n",
    "elif 24 <= bmi < 27:\n",
    "    classification = \"體重過重\"\n",
    "elif 27 <= bmi < 30:\n",
    "    classification = \"輕度肥胖\"\n",
    "elif 30 <= bmi < 35:\n",
    "    classification = \"中度肥胖\"\n",
    "else:\n",
    "    classification = \"重度肥胖\"\n",
    "\n",
    "print(\"BMI is\",bmi,\"，屬於\",classification)"
   ]
  },
  {
   "cell_type": "code",
   "execution_count": 3,
   "id": "1754a11d",
   "metadata": {},
   "outputs": [
    {
     "name": "stdout",
     "output_type": "stream",
     "text": [
      "請輸入西元年：2023\n",
      "2023 年不是閏年\n"
     ]
    }
   ],
   "source": [
    "year = int(input(\"請輸入西元年：\"))\n",
    "leap_year =(year%4==0 and year%100 != 0) or (year%400 == 0)\n",
    "if leap_year:\n",
    "    print(year,\"年是閏年\")\n",
    "else:\n",
    "    print(year,\"年不是閏年\")"
   ]
  },
  {
   "cell_type": "code",
   "execution_count": 24,
   "id": "a9a224ef",
   "metadata": {},
   "outputs": [
    {
     "name": "stdout",
     "output_type": "stream",
     "text": [
      "Enter a date (mm/dd/yyyy):02/29/2011\n",
      "02/29/2011 錯誤\n"
     ]
    }
   ],
   "source": [
    "dateStr=input(\"Enter a date (mm/dd/yyyy):\")\n",
    "monthStr, dayStr, yearStr=dateStr.split(\"/\")\n",
    "month = int(monthStr)\n",
    "day = int(dayStr)\n",
    "year = int(yearStr)\n",
    "leap_year =(year%4==0 and year%100 != 0) or (year%400 == 0)\n",
    "\n",
    "if (month in [1,3,5,7,8,10,12] and 1 <= day <=31):\n",
    "    print(dateStr ,\"正確\")\n",
    "elif (month in [4,5,9,11] and 1 <= day <=30):\n",
    "    print(dateStr ,\"正確\")\n",
    "elif (month in [2] and 1 <= day <=28) or (leap_year and month==2 and day==29):\n",
    "    print(dateStr ,\"正確\")\n",
    "else:\n",
    "    print(dateStr ,\"錯誤\")"
   ]
  },
  {
   "cell_type": "code",
   "execution_count": 49,
   "id": "5678981c",
   "metadata": {},
   "outputs": [
    {
     "name": "stdout",
     "output_type": "stream",
     "text": [
      "請輸入一個正整數 n (n>2)：13\n",
      "13 是質數\n"
     ]
    }
   ],
   "source": [
    "import math\n",
    "def prime():    \n",
    "    n = int(input(\"請輸入一個正整數 n (n>2)：\"))\n",
    "    if n < 2:\n",
    "        n_prime = False\n",
    "        \n",
    "    for m in range(2,int(math.sqrt(n))+1):\n",
    "        if n % m == 0 : #質數除了1和自己，不會有其他因數\n",
    "            n_prime = False\n",
    "        else:\n",
    "            n_prime = True\n",
    "    if n_prime:\n",
    "        print(n,\"是質數\")\n",
    "    else:\n",
    "        print(n,\"不是質數\")\n",
    "        \n",
    "\n",
    "prime()"
   ]
  },
  {
   "cell_type": "code",
   "execution_count": 67,
   "id": "42b63b5d",
   "metadata": {},
   "outputs": [
    {
     "name": "stdout",
     "output_type": "stream",
     "text": [
      "請輸入一個正整數 n (n>2)：46\n",
      "小於或等於 46 的質數有 [2, 3, 5, 7, 11, 13, 17, 19, 23, 29, 31, 37, 41, 43]\n"
     ]
    }
   ],
   "source": [
    "import math\n",
    "n = int(input(\"請輸入一個正整數 n (n>2)：\"))\n",
    "prime_numbers = [] #儲存找到的質數\n",
    "\n",
    "for num in range(2,n+1):\n",
    "    for m in range(2,int(math.sqrt(num))+1):\n",
    "        if num % m == 0 : #質數除了1和自己，不會有其他因數\n",
    "            n_prime = False\n",
    "            break\n",
    "        else:\n",
    "            n_prime = True\n",
    "    if n_prime:\n",
    "            prime_numbers.append(num)\n",
    "print(\"小於或等於\",n,\"的質數有\",prime_numbers)"
   ]
  }
 ],
 "metadata": {
  "kernelspec": {
   "display_name": "Python 3 (ipykernel)",
   "language": "python",
   "name": "python3"
  },
  "language_info": {
   "codemirror_mode": {
    "name": "ipython",
    "version": 3
   },
   "file_extension": ".py",
   "mimetype": "text/x-python",
   "name": "python",
   "nbconvert_exporter": "python",
   "pygments_lexer": "ipython3",
   "version": "3.11.4"
  }
 },
 "nbformat": 4,
 "nbformat_minor": 5
}
