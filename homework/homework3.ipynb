{
 "cells": [
  {
   "cell_type": "code",
   "execution_count": 3,
   "id": "43c507fe",
   "metadata": {},
   "outputs": [],
   "source": [
    "import graphics\n",
    "from graphics import *\n",
    "from graphics import GraphWin\n",
    "\n",
    "win = GraphWin()\n",
    "center = Point(100,100)\n",
    "face = Circle(center, 100)\n",
    "face.setFill(\"yellow\")\n",
    "face.draw(win)\n",
    "\n",
    "leftEye = Circle(Point(70, 50), 10)\n",
    "leftEye.setFill(\"black\")\n",
    "leftEye.draw(win)\n",
    "\n",
    "rightEye = leftEye.clone()\n",
    "rightEye.move(60,0)\n",
    "rightEye.draw(win)\n",
    "\n",
    "mouth = Polygon(Point(70, 100), Point(100, 150), Point(130, 100))\n",
    "mouth.setFill(\"red\")\n",
    "mouth.draw(win)\n",
    "\n",
    "label=Text(Point(100, 180), \"按一下以關閉程式\")\n",
    "label.draw(win)\n",
    "win.getMouse()\n",
    "win.close()"
   ]
  },
  {
   "cell_type": "code",
   "execution_count": 1,
   "id": "eadca4a3",
   "metadata": {},
   "outputs": [],
   "source": [
    "import math\n",
    "from graphics import *\n",
    "def square(x):\n",
    "    return x*x\n",
    "def distance(p1, p2):\n",
    "    dist = math.sqrt(square(p2.getX()-p1.getX())+square(p2.getY()-p1.getY()))\n",
    "    return dist\n",
    "def rectangle():\n",
    "    win = GraphWin(\"Draw a Rectangle\", 400, 400)\n",
    "    message = Text(Point(200, 20),\"Click on two points\")\n",
    "    message.draw(win)\n",
    "    \n",
    "    p1 = win.getMouse()\n",
    "    p1.draw(win)\n",
    "    p2 = win.getMouse()\n",
    "    p2.draw(win)\n",
    "    rectangle = Rectangle(p1, p2)\n",
    "    rectangle.setFill(\"peachpuff\")\n",
    "    rectangle.setOutline(\"cyan\")\n",
    "    rectangle.draw(win)\n",
    "    \n",
    "    width = abs(p2.getX()-p1.getX())\n",
    "    height = abs(p2.getY()-p1.getY())\n",
    "    length = 2 * (width + height)\n",
    "    length_text = Text(Point(200, 350), f\"邊長總和：{length:0.2f}\")\n",
    "    length_text.draw(win)\n",
    "    area = width * height\n",
    "    area_text = Text(Point(200, 380), f\"面積：{area:0.2f}\")\n",
    "    area_text.draw(win)\n",
    "    \n",
    "    message.setText(\"按一下以關閉程式\")\n",
    "    win.getMouse()\n",
    "    win.close()\n",
    "rectangle()"
   ]
  },
  {
   "cell_type": "code",
   "execution_count": 4,
   "id": "794b5d25",
   "metadata": {},
   "outputs": [],
   "source": [
    "import math\n",
    "from graphics import *\n",
    "def square(x):\n",
    "    return x*x\n",
    "def distance(p1, p2):\n",
    "    dist = math.sqrt(square(p2.getX()-p1.getX())+square(p2.getY()-p1.getY()))\n",
    "    return dist\n",
    "def triangle2():\n",
    "    win = GraphWin(\"Draw a Triangle\",400 ,400)\n",
    "    message = Text(Point(200, 20),\"Click on three points\")\n",
    "    message.draw(win)\n",
    "    \n",
    "    p1 = win.getMouse()\n",
    "    p1.draw(win)\n",
    "    p2 = win.getMouse()\n",
    "    p2.draw(win)\n",
    "    p3 = win.getMouse()\n",
    "    p3.draw(win)\n",
    "    triangle = Polygon(p1, p2, p3)\n",
    "    triangle.setFill(\"peachpuff\")\n",
    "    triangle.setOutline(\"cyan\")\n",
    "    triangle.draw(win)\n",
    "    \n",
    "    perimeter = distance(p1, p2)+distance(p2, p3)+distance(p3, p1)\n",
    "    perimeter_text = Text(Point(200, 350), f\"The perimeter is:{perimeter:0.2f}\")\n",
    "    perimeter_text.draw(win)\n",
    "    s = perimeter/2\n",
    "    area = (s*(s-distance(p1, p2))*(s-distance(p2, p3))*(s-distance(p3, p1)))\n",
    "    area_text = Text(Point(200, 380), f\"The area is：{area:.2f}\")\n",
    "    area_text.draw(win)\n",
    "    \n",
    "    message.setText(\"按一下以關閉程式\")\n",
    "    win.getMouse()\n",
    "    win.close()\n",
    "triangle2()    "
   ]
  },
  {
   "cell_type": "code",
   "execution_count": 17,
   "id": "e148b4c3",
   "metadata": {},
   "outputs": [
    {
     "name": "stdout",
     "output_type": "stream",
     "text": [
      "請輸入n:100\n",
      "前 100 個自然數的總和: 5050\n"
     ]
    }
   ],
   "source": [
    "def sumN(n):\n",
    "    if n<1:\n",
    "        return 0\n",
    "    else:\n",
    "        return n + sumN(n-1)\n",
    "n = int(input(\"請輸入n:\"))\n",
    "print(\"前\",n,\"個自然數的總和:\", sumN(n))"
   ]
  },
  {
   "cell_type": "code",
   "execution_count": 19,
   "id": "482037b3",
   "metadata": {},
   "outputs": [
    {
     "name": "stdout",
     "output_type": "stream",
     "text": [
      "請輸入n:5\n",
      "前 5 個自然數的3次方總和: 225\n"
     ]
    }
   ],
   "source": [
    "def sumNCubes(n):\n",
    "    if n<1:\n",
    "        return 0\n",
    "    else:\n",
    "        return n**3 + sumNCubes(n-1)\n",
    "n = int(input(\"請輸入n:\"))\n",
    "print(\"前\",n,\"個自然數的3次方總和:\", sumNCubes(n))"
   ]
  },
  {
   "cell_type": "code",
   "execution_count": 28,
   "id": "d7b60cf8",
   "metadata": {},
   "outputs": [
    {
     "name": "stdout",
     "output_type": "stream",
     "text": [
      "[32, 21, 56]\n"
     ]
    }
   ],
   "source": [
    "def toNumbers(strList):\n",
    "    #map()根據提供的函数對指定序列做映射，轉換成int。\n",
    "    #list()將每個int轉換為。\n",
    "    numList = list(map(int, strList))\n",
    "    return numList\n",
    "\n",
    "strList = [\"32\", \"21\", \"56\"]\n",
    "numList = toNumbers(strList)\n",
    "print(numList)\n"
   ]
  },
  {
   "cell_type": "code",
   "execution_count": 19,
   "id": "18d95d75",
   "metadata": {},
   "outputs": [],
   "source": [
    "import graphics\n",
    "from graphics import *\n",
    "from graphics import GraphWin\n",
    "\n",
    "def drawFace(center, size, win):\n",
    "    face = Circle(center, size)\n",
    "    face.setFill(\"yellow\")\n",
    "    face.draw(win)\n",
    "    \n",
    "    eye_x = center.getX() - size // 3\n",
    "    eye_y = center.getY() - size // 3\n",
    "    leftEye = Circle(Point(eye_x, eye_y), size//10)\n",
    "    leftEye.setFill(\"black\")\n",
    "    leftEye.draw(win)\n",
    "    rightEye = leftEye.clone()\n",
    "    rightEye.move(2 * size // 3,0)\n",
    "    rightEye.draw(win)\n",
    "\n",
    "    m1 = Point(center.getX() - size // 3, center.getY() + size // 3)\n",
    "    m2 = Point(center.getX(), center.getY() + size // 2)\n",
    "    m3 = Point(center.getX() + size // 3, center.getY() + size // 3 )\n",
    "    mouth = Polygon(m1, m2, m3)\n",
    "    mouth.setFill(\"red\")\n",
    "    mouth.draw(win)\n",
    "\n",
    "def main():\n",
    "    win = GraphWin(\"5個笑臉\", 800, 600)\n",
    "    \n",
    "    Text(Point(400, 30),\"選擇臉的大小\").draw(win)\n",
    "    input = Entry(Point(500,30),5)\n",
    "    input.setText(\"100\")\n",
    "    input.draw(win)\n",
    "    \n",
    "    message = Text(Point(400, 50),\"選一個點當作笑臉出現的位置(共5次)\")\n",
    "    message.draw(win)\n",
    "    \n",
    "    for i in range (5):\n",
    "        win.getMouse()\n",
    "        size = eval(input.getText())\n",
    "        center = win.getMouse()\n",
    "        drawFace(center, size, win)\n",
    "        if i == 4:\n",
    "            message.setText(\"按一下以關閉程式\")\n",
    "            input.setText(\"已完成\")\n",
    "    win.getMouse()\n",
    "    win.close()\n",
    "main()"
   ]
  },
  {
   "cell_type": "code",
   "execution_count": null,
   "id": "63840b4e",
   "metadata": {},
   "outputs": [],
   "source": []
  }
 ],
 "metadata": {
  "kernelspec": {
   "display_name": "Python 3 (ipykernel)",
   "language": "python",
   "name": "python3"
  },
  "language_info": {
   "codemirror_mode": {
    "name": "ipython",
    "version": 3
   },
   "file_extension": ".py",
   "mimetype": "text/x-python",
   "name": "python",
   "nbconvert_exporter": "python",
   "pygments_lexer": "ipython3",
   "version": "3.11.4"
  }
 },
 "nbformat": 4,
 "nbformat_minor": 5
}
